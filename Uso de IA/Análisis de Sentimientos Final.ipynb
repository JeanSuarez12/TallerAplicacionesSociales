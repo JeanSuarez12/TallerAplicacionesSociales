{
 "cells": [
  {
   "cell_type": "code",
   "execution_count": 1,
   "id": "ada4004f-647a-4c1d-a1ce-70ed71e91b3a",
   "metadata": {},
   "outputs": [
    {
     "name": "stdout",
     "output_type": "stream",
     "text": [
      "                                              Producto    Categoría  \\\n",
      "0    HP 14 inch Laptop, HD Display, 12th Generation...      laptops   \n",
      "1    15.6\" FHD IPS Business Laptop, 32GB RAM 1TB SS...      laptops   \n",
      "2    ASUS 2024 Vivobook Go 11.6” HD Laptop, Intel D...      laptops   \n",
      "3    ASUS 15.6” Vivobook Go Laptop, Intel Dual Core...      laptops   \n",
      "4    HP 17 Laptop, 17.3\" HD+ Touchscreen Display, 1...      laptops   \n",
      "..                                                 ...          ...   \n",
      "353  32GB FRAMEO 10.1 Inch Smart WiFi Digital Photo...  electronics   \n",
      "354  Mini Projector, VISSPL Full HD 1080P Video Pro...  electronics   \n",
      "355  Blink Outdoor 4 [Newest Model] - Wireless outd...  electronics   \n",
      "356  Roku Express 4K+ | Roku Streaming Device 4K/HD...  electronics   \n",
      "357  Skylight Calendar: 15 inch Digital Calendar & ...  electronics   \n",
      "\n",
      "     Sentimiento promedio                          Sentimientos individuales  \n",
      "0                0.087051  [0.2357142857142857, -0.07222222222222224, 0.0...  \n",
      "1                0.509849     [0.3281780303030303, 1.0, 0.20136904761904761]  \n",
      "2                0.107833  [0.03350000000000001, 0.048333333333333305, 0....  \n",
      "3                0.511481      [0.2122222222222222, 1.0, 0.3222222222222222]  \n",
      "4                0.414028     [0.4604166666666667, 0.24, 0.5416666666666667]  \n",
      "..                    ...                                                ...  \n",
      "353              0.000000                                                 []  \n",
      "354              0.000000                                                 []  \n",
      "355              0.000000                                                 []  \n",
      "356              0.000000                                                 []  \n",
      "357              0.000000                                                 []  \n",
      "\n",
      "[358 rows x 4 columns]\n"
     ]
    }
   ],
   "source": [
    "import json\n",
    "import pandas as pd\n",
    "from textblob import TextBlob\n",
    "\n",
    "# Cargar el archivo JSON\n",
    "with open( r'C:\\Users\\JP\\Desktop\\Archivos para Analisis de Sentimientos\\Nuevo Analisis de Sentimientos\\productos.json', encoding='utf-8') as file:\n",
    "    data = json.load(file)\n",
    "\n",
    "# Almacenar resultados\n",
    "productos_sentimiento = []\n",
    "\n",
    "# Procesar cada producto\n",
    "for producto in data:\n",
    "    title = producto['title']\n",
    "    category = producto['category']\n",
    "    reviews = producto['reviews']\n",
    "    \n",
    "    if reviews:  # Verificar si hay reseñas\n",
    "        # Calcular el sentimiento para cada reseña\n",
    "        sentimientos = [TextBlob(review).sentiment.polarity for review in reviews]\n",
    "        # Calcular el sentimiento promedio del producto\n",
    "        sentimiento_promedio = sum(sentimientos) / len(sentimientos)\n",
    "    else:\n",
    "        # Si no hay reseñas, asignar un valor predeterminado\n",
    "        sentimientos = []\n",
    "        sentimiento_promedio = 0  # Puedes usar \"None\" o \"No aplica\" si prefieres\n",
    "    \n",
    "    # Almacenar resultados del producto\n",
    "    productos_sentimiento.append({\n",
    "        'Producto': title,\n",
    "        'Categoría': category,\n",
    "        'Sentimiento promedio': sentimiento_promedio,\n",
    "        'Sentimientos individuales': sentimientos\n",
    "    })\n",
    "\n",
    "# Crear un DataFrame\n",
    "df_productos = pd.DataFrame(productos_sentimiento)\n",
    "\n",
    "# Mostrar el resultado\n",
    "print(df_productos)\n",
    "\n",
    "# Guardar los resultados en un archivo JSON\n",
    "output_json_path = r'C:\\Users\\JP\\Desktop\\Archivos para Analisis de Sentimientos\\Nuevo Analisis de Sentimientos\\productos_sentimiento.json'\n",
    "with open(output_json_path, 'w', encoding='utf-8') as json_file:\n",
    "    json.dump(productos_sentimiento, json_file, ensure_ascii=False, indent=4)\n",
    "\n",
    "# Guardar los resultados en un archivo CSV\n",
    "output_csv_path = r'C:\\Users\\JP\\Desktop\\Archivos para Analisis de Sentimientos\\Nuevo Analisis de Sentimientos\\productos_sentimiento.csv'\n",
    "df_productos.to_csv(output_csv_path, index=False, encoding='utf-8')\n"
   ]
  },
  {
   "cell_type": "code",
   "execution_count": 3,
   "id": "22b03993-6ef9-4ab5-a9e1-8a2cb5653419",
   "metadata": {},
   "outputs": [
    {
     "name": "stdout",
     "output_type": "stream",
     "text": [
      "            Categoría  Sentimiento_promedio  Productos_positivos  \\\n",
      "0         electronics              0.120902                   16   \n",
      "1  gaming_accessories              0.253154                  190   \n",
      "2             laptops              0.291888                   63   \n",
      "3      pc_peripherals              0.191405                   62   \n",
      "\n",
      "   Productos_negativos  Productos_neutros  \n",
      "0                    0                 16  \n",
      "1                    1                  1  \n",
      "2                    2                  5  \n",
      "3                    0                  2  \n",
      "Archivo CSV guardado en: C:\\Users\\JP\\Desktop\\Archivos para Analisis de Sentimientos\\categorias_sentimiento.csv\n",
      "Archivo JSON guardado en: C:\\Users\\JP\\Desktop\\Archivos para Analisis de Sentimientos\\categorias_sentimiento.json\n"
     ]
    }
   ],
   "source": [
    "# Agrupar por categoría y calcular métricas\n",
    "df_categorias = df_productos.groupby('Categoría').agg(\n",
    "    Sentimiento_promedio=('Sentimiento promedio', 'mean'),\n",
    "    Productos_positivos=('Sentimiento promedio', lambda x: (x > 0).sum()),\n",
    "    Productos_negativos=('Sentimiento promedio', lambda x: (x < 0).sum()),\n",
    "    Productos_neutros=('Sentimiento promedio', lambda x: (x == 0).sum())\n",
    ").reset_index()\n",
    "\n",
    "# Mostrar resultados por categoría\n",
    "print(df_categorias)\n",
    "\n",
    "# Guardar el DataFrame agrupado en un archivo CSV\n",
    "output_categorias_csv_path = r'C:\\Users\\JP\\Desktop\\Archivos para Analisis de Sentimientos\\categorias_sentimiento.csv'\n",
    "df_categorias.to_csv(output_categorias_csv_path, index=False, encoding='utf-8')\n",
    "\n",
    "# Guardar el DataFrame agrupado en un archivo JSON\n",
    "output_categorias_json_path = r'C:\\Users\\JP\\Desktop\\Archivos para Analisis de Sentimientos\\categorias_sentimiento.json'\n",
    "df_categorias.to_json(output_categorias_json_path, orient='records', force_ascii=False, indent=4)\n",
    "\n",
    "print(f\"Archivo CSV guardado en: {output_categorias_csv_path}\")\n",
    "print(f\"Archivo JSON guardado en: {output_categorias_json_path}\")\n",
    "\n"
   ]
  },
  {
   "cell_type": "code",
   "execution_count": 7,
   "id": "b11c5e94-30d2-496b-9e13-86c5e9505cc2",
   "metadata": {},
   "outputs": [
    {
     "name": "stdout",
     "output_type": "stream",
     "text": [
      "Productos con mejor sentimiento guardados en:\n",
      "  CSV: C:\\Users\\JP\\Desktop\\Archivos para Analisis de Sentimientos\\productos_mejor_sentimiento.csv\n",
      "  JSON: C:\\Users\\JP\\Desktop\\Archivos para Analisis de Sentimientos\\productos_mejor_sentimiento.json\n",
      "Productos con peor sentimiento guardados en:\n",
      "  CSV: C:\\Users\\JP\\Desktop\\Archivos para Analisis de Sentimientos\\productos_peor_sentimiento.csv\n",
      "  JSON: C:\\Users\\JP\\Desktop\\Archivos para Analisis de Sentimientos\\productos_peor_sentimiento.json\n",
      "Productos con sentimiento nulo guardados en:\n",
      "  CSV: C:\\Users\\JP\\Desktop\\Archivos para Analisis de Sentimientos\\productos_sentimiento_nulo.csv\n",
      "  JSON: C:\\Users\\JP\\Desktop\\Archivos para Analisis de Sentimientos\\productos_sentimiento_nulo.json\n"
     ]
    }
   ],
   "source": [
    "# Identificar los productos con mejor, peor y nulos sentimientos promedio\n",
    "productos_mejor_sentimiento = df_productos[df_productos['Sentimiento promedio'] >= 0.5]\n",
    "productos_peor_sentimiento = df_productos[df_productos['Sentimiento promedio'] < 0]\n",
    "productos_sentimiento_nulo = df_productos[df_productos['Sentimientos individuales'].apply(len) == 0]\n",
    "\n",
    "# Guardar en CSV y JSON\n",
    "base_path = r'C:\\Users\\JP\\Desktop\\Archivos para Analisis de Sentimientos'\n",
    "\n",
    "# Guardar los productos con mejor sentimiento promedio\n",
    "mejor_csv_path = f'{base_path}\\productos_mejor_sentimiento.csv'\n",
    "mejor_json_path = f'{base_path}\\productos_mejor_sentimiento.json'\n",
    "productos_mejor_sentimiento.to_csv(mejor_csv_path, index=False, encoding='utf-8')\n",
    "productos_mejor_sentimiento.to_json(mejor_json_path, orient='records', force_ascii=False, indent=4)\n",
    "\n",
    "# Guardar los productos con peor sentimiento promedio\n",
    "peor_csv_path = f'{base_path}\\productos_peor_sentimiento.csv'\n",
    "peor_json_path = f'{base_path}\\productos_peor_sentimiento.json'\n",
    "productos_peor_sentimiento.to_csv(peor_csv_path, index=False, encoding='utf-8')\n",
    "productos_peor_sentimiento.to_json(peor_json_path, orient='records', force_ascii=False, indent=4)\n",
    "\n",
    "# Guardar los productos con sentimiento nulo\n",
    "nulo_csv_path = f'{base_path}\\productos_sentimiento_nulo.csv'\n",
    "nulo_json_path = f'{base_path}\\productos_sentimiento_nulo.json'\n",
    "productos_sentimiento_nulo.to_csv(nulo_csv_path, index=False, encoding='utf-8')\n",
    "productos_sentimiento_nulo.to_json(nulo_json_path, orient='records', force_ascii=False, indent=4)\n",
    "\n",
    "# Imprimir mensajes de confirmación\n",
    "print(f\"Productos con mejor sentimiento guardados en:\\n  CSV: {mejor_csv_path}\\n  JSON: {mejor_json_path}\")\n",
    "print(f\"Productos con peor sentimiento guardados en:\\n  CSV: {peor_csv_path}\\n  JSON: {peor_json_path}\")\n",
    "print(f\"Productos con sentimiento nulo guardados en:\\n  CSV: {nulo_csv_path}\\n  JSON: {nulo_json_path}\")\n"
   ]
  },
  {
   "cell_type": "code",
   "execution_count": 8,
   "id": "4743af6d-47a4-4c11-bcb4-b8404303b155",
   "metadata": {},
   "outputs": [
    {
     "name": "stdout",
     "output_type": "stream",
     "text": [
      "Productos sin reseñas guardados en:\n",
      "  CSV: C:\\\\Users\\\\JP\\\\Desktop\\\\Archivos para Analisis de Sentimientos\\productos_sin_reseñas.csv\n",
      "  JSON: C:\\\\Users\\\\JP\\\\Desktop\\\\Archivos para Analisis de Sentimientos\\productos_sin_reseñas.json\n",
      "Top 20 mejores productos guardados en:\n",
      "  CSV: C:\\\\Users\\\\JP\\\\Desktop\\\\Archivos para Analisis de Sentimientos\\top_20_mejor_sentimiento.csv\n",
      "  JSON: C:\\\\Users\\\\JP\\\\Desktop\\\\Archivos para Analisis de Sentimientos\\top_20_mejor_sentimiento.json\n",
      "Top 20 peores productos guardados en:\n",
      "  CSV: C:\\\\Users\\\\JP\\\\Desktop\\\\Archivos para Analisis de Sentimientos\\top_20_peor_sentimiento.csv\n",
      "  JSON: C:\\\\Users\\\\JP\\\\Desktop\\\\Archivos para Analisis de Sentimientos\\top_20_peor_sentimiento.json\n"
     ]
    }
   ],
   "source": [
    "# Definir base_path correctamente con barras dobles\n",
    "base_path = r'C:\\\\Users\\\\JP\\\\Desktop\\\\Archivos para Analisis de Sentimientos'\n",
    "\n",
    "# Guardar productos sin reseñas\n",
    "sin_reseñas_csv_path = f'{base_path}\\\\productos_sin_reseñas.csv'\n",
    "sin_reseñas_json_path = f'{base_path}\\\\productos_sin_reseñas.json'\n",
    "productos_sin_reseñas.to_csv(sin_reseñas_csv_path, index=False, encoding='utf-8')\n",
    "productos_sin_reseñas.to_json(sin_reseñas_json_path, orient='records', force_ascii=False, indent=4)\n",
    "\n",
    "# Guardar los 20 mejores productos\n",
    "mejor_csv_path = f'{base_path}\\\\top_20_mejor_sentimiento.csv'\n",
    "mejor_json_path = f'{base_path}\\\\top_20_mejor_sentimiento.json'\n",
    "productos_mejor_sentimiento.to_csv(mejor_csv_path, index=False, encoding='utf-8')\n",
    "productos_mejor_sentimiento.to_json(mejor_json_path, orient='records', force_ascii=False, indent=4)\n",
    "\n",
    "# Guardar los 20 peores productos\n",
    "peor_csv_path = f'{base_path}\\\\top_20_peor_sentimiento.csv'\n",
    "peor_json_path = f'{base_path}\\\\top_20_peor_sentimiento.json'\n",
    "productos_peor_sentimiento.to_csv(peor_csv_path, index=False, encoding='utf-8')\n",
    "productos_peor_sentimiento.to_json(peor_json_path, orient='records', force_ascii=False, indent=4)\n",
    "\n",
    "# Imprimir mensajes de confirmación\n",
    "print(f\"Productos sin reseñas guardados en:\\n  CSV: {sin_reseñas_csv_path}\\n  JSON: {sin_reseñas_json_path}\")\n",
    "print(f\"Top 20 mejores productos guardados en:\\n  CSV: {mejor_csv_path}\\n  JSON: {mejor_json_path}\")\n",
    "print(f\"Top 20 peores productos guardados en:\\n  CSV: {peor_csv_path}\\n  JSON: {peor_json_path}\")\n"
   ]
  },
  {
   "cell_type": "code",
   "execution_count": 9,
   "id": "bb646a6f-2003-48f1-b74c-e06f5356a9b4",
   "metadata": {},
   "outputs": [
    {
     "name": "stdout",
     "output_type": "stream",
     "text": [
      "Productos con IDs únicos guardados en:\n",
      "  CSV: C:\\Users\\JP\\Desktop\\Archivos para Analisis de Sentimientos\\productos_con_id.csv\n",
      "  JSON: C:\\Users\\JP\\Desktop\\Archivos para Analisis de Sentimientos\\productos_con_id.json\n"
     ]
    }
   ],
   "source": [
    "import os\n",
    "\n",
    "# Definir base_path\n",
    "base_path = r'C:\\Users\\JP\\Desktop\\Archivos para Analisis de Sentimientos'\n",
    "\n",
    "# Agregar una columna de ID única\n",
    "df_productos['ID'] = range(1, len(df_productos) + 1)\n",
    "\n",
    "# Construir rutas de archivo\n",
    "productos_con_id_csv_path = os.path.join(base_path, 'productos_con_id.csv')\n",
    "productos_con_id_json_path = os.path.join(base_path, 'productos_con_id.json')\n",
    "\n",
    "# Guardar el DataFrame con IDs únicos en CSV y JSON\n",
    "df_productos.to_csv(productos_con_id_csv_path, index=False, encoding='utf-8')\n",
    "df_productos.to_json(productos_con_id_json_path, orient='records', force_ascii=False, indent=4)\n",
    "\n",
    "# Mensajes de confirmación\n",
    "print(f\"Productos con IDs únicos guardados en:\\n  CSV: {productos_con_id_csv_path}\\n  JSON: {productos_con_id_json_path}\")\n",
    "\n"
   ]
  },
  {
   "cell_type": "code",
   "execution_count": null,
   "id": "7213dfe2-3e7b-469b-b7f8-ab55fe9a1e9f",
   "metadata": {},
   "outputs": [],
   "source": []
  }
 ],
 "metadata": {
  "kernelspec": {
   "display_name": "Python 3 (ipykernel)",
   "language": "python",
   "name": "python3"
  },
  "language_info": {
   "codemirror_mode": {
    "name": "ipython",
    "version": 3
   },
   "file_extension": ".py",
   "mimetype": "text/x-python",
   "name": "python",
   "nbconvert_exporter": "python",
   "pygments_lexer": "ipython3",
   "version": "3.10.13"
  }
 },
 "nbformat": 4,
 "nbformat_minor": 5
}
